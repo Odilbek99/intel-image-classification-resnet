{
  "nbformat": 4,
  "nbformat_minor": 0,
  "metadata": {
    "colab": {
      "provenance": [],
      "gpuType": "T4"
    },
    "kernelspec": {
      "name": "python3",
      "display_name": "Python 3"
    },
    "language_info": {
      "name": "python"
    },
    "accelerator": "GPU"
  },
  "cells": [
    {
      "cell_type": "markdown",
      "source": [
        "# Тестовое задание\n",
        "\n",
        "```\n",
        "- Задача: Классификация изображений с фреймфорком глубокого обучения Pytorch используя архитектуры CNN.\n",
        "- Данные: https://www.kaggle.com/puneet6060/intel-image-classification\n",
        "- Github: https://github.com/Odilbek99/intel-image-classification-resnet\n",
        "- Кандидат: Умаралиев Одилбек Отабекович\n",
        "- Университет: Университет Иннополис\n",
        "- Образование: Степень магистра по направлению Data Science и ИИ\n",
        "- Интересы: ML/DL/CV/NLP\n",
        "- Telegram: https://t.me/odilee7\n",
        "- Linkedin: https://www.linkedin.com/in/odilbek-umaraliev-59b970252/\n",
        "``` \n",
        "<hr>\n"
      ],
      "metadata": {
        "id": "a0HesFetb4lj"
      }
    },
    {
      "cell_type": "code",
      "source": [
        "# !unzip '/content/drive/MyDrive/Intel Image Classification/archive.zip'"
      ],
      "metadata": {
        "id": "vFiF6vs63yRt"
      },
      "execution_count": null,
      "outputs": []
    },
    {
      "cell_type": "markdown",
      "source": [
        "# **Импортирование библиотек**"
      ],
      "metadata": {
        "id": "H6EkqKhANtQ-"
      }
    },
    {
      "cell_type": "code",
      "source": [
        "# Импортирование необходимых библиотек\n",
        "\n",
        "import os\n",
        "\n",
        "import torch\n",
        "import torch.nn as nn\n",
        "from torchvision import transforms, datasets\n",
        "\n",
        "from sklearn.metrics import classification_report, confusion_matrix\n",
        "\n",
        "import matplotlib.pyplot as plt\n",
        "import seaborn as sns\n",
        "%matplotlib inline"
      ],
      "metadata": {
        "id": "JT_E1CbHLXab"
      },
      "execution_count": 2,
      "outputs": []
    },
    {
      "cell_type": "markdown",
      "source": [
        "# Архитектура ResNET\n",
        "\n",
        "Архитектура *ResNet*. Архитектура *ResNet* вводит **\"пропускные связи\"** (также известные как ***residual network***), что позволяет обучать гораздо более глубокие сети.\n",
        "\n",
        "В данной реализации мы имеем простую сеть *ResNet*, состоящую из нескольких блоков *ResidualBlock*. Каждый блок ResidualBlock имеет два сверточных слоя и дополнительный слой понижающей выборки."
      ],
      "metadata": {
        "id": "9lkHgZFPO7sg"
      }
    },
    {
      "cell_type": "code",
      "source": [
        "# Класс ResidualBlock\n",
        "class ResidualBlock(nn.Module):\n",
        "    def __init__(self, in_channels, out_channels, stride=1, downsample=None):\n",
        "        super(ResidualBlock, self).__init__()\n",
        "        # Сверточные слои\n",
        "        self.conv1 = nn.Conv2d(in_channels, out_channels, kernel_size=3, \n",
        "                               stride=stride, padding=1, bias=False)\n",
        "        self.bn1 = nn.BatchNorm2d(out_channels)\n",
        "        self.relu = nn.ReLU(inplace=True)\n",
        "        self.conv2 = nn.Conv2d(out_channels, out_channels, kernel_size=3, \n",
        "                               padding=1, bias=False)\n",
        "        self.bn2 = nn.BatchNorm2d(out_channels)\n",
        "\n",
        "        self.downsample = downsample\n",
        "\n",
        "    def forward(self, x):\n",
        "        residual = x\n",
        "        out = self.conv1(x)\n",
        "        out = self.bn1(out)\n",
        "        out = self.relu(out)\n",
        "        out = self.conv2(out)\n",
        "        out = self.bn2(out)\n",
        "        if self.downsample:\n",
        "            residual = self.downsample(x)\n",
        "        out += residual\n",
        "        out = self.relu(out)\n",
        "        return out\n",
        "\n",
        "# Класс ResNet\n",
        "class ResNet(nn.Module):\n",
        "    def __init__(self, block, layers, num_classes=6):\n",
        "        super(ResNet, self).__init__()\n",
        "        self.in_channels = 16\n",
        "        self.conv = nn.Conv2d(3, 16, kernel_size=3, stride=1, padding=1, bias=False)\n",
        "        self.bn = nn.BatchNorm2d(16)\n",
        "        self.relu = nn.ReLU(inplace=True)\n",
        "        # Создание слоев ResNet\n",
        "        self.layer1 = self.make_layer(block, 16, layers[0])\n",
        "        self.layer2 = self.make_layer(block, 32, layers[1], 2)\n",
        "        self.layer3 = self.make_layer(block, 64, layers[2], 2)\n",
        "        self.avg_pool = nn.AvgPool2d(8)\n",
        "        self.fc = nn.Linear(64, num_classes)\n",
        "\n",
        "    def make_layer(self, block, out_channels, blocks, stride=1):\n",
        "        downsample = None\n",
        "        if (stride != 1) or (self.in_channels != out_channels):\n",
        "            downsample = nn.Sequential(\n",
        "                nn.Conv2d(self.in_channels, out_channels, kernel_size=3, stride=stride, \n",
        "                          padding=1, bias=False),\n",
        "                nn.BatchNorm2d(out_channels))\n",
        "        layers = []\n",
        "        layers.append(block(self.in_channels, out_channels, stride, downsample))\n",
        "        self.in_channels = out_channels\n",
        "        for i in range(1, blocks):\n",
        "            layers.append(block(out_channels, out_channels))\n",
        "        return nn.Sequential(*layers)\n",
        "\n",
        "    def forward(self, x):\n",
        "        out = self.conv(x)\n",
        "        out = self.bn(out)\n",
        "        out = self.relu(out)\n",
        "        out = self.layer1(out)\n",
        "        out = self.layer2(out)\n",
        "        out = self.layer3(out)\n",
        "        out = self.avg_pool(out)\n",
        "        out = out.view(out.size(0), -1)\n",
        "        out = self.fc(out)\n",
        "        return out\n"
      ],
      "metadata": {
        "id": "HwtKZBCaHKvi"
      },
      "execution_count": 3,
      "outputs": []
    },
    {
      "cell_type": "markdown",
      "source": [
        "# Обработка данных\n",
        "Обработка данных состоит из следующих:\n",
        "\n",
        "\n",
        "1.   Загрузка данных\n",
        "2.   Разделение данных на обучающий и проверочный наборы\n",
        "3. Создание загрузчики данных\n",
        "\n"
      ],
      "metadata": {
        "id": "AaG62NXZQPXJ"
      }
    },
    {
      "cell_type": "markdown",
      "source": [
        "## Загрузка данных"
      ],
      "metadata": {
        "id": "OtvZVatqSjaL"
      }
    },
    {
      "cell_type": "code",
      "source": [
        "# Путь к папке\n",
        "DATA_PATH = '/content/' # Не забудьте поменять путь, я моунтировал гугл диск \n",
        "\n",
        "transform = transforms.Compose([\n",
        "    transforms.Resize((32, 32)),\n",
        "    transforms.ToTensor(),\n",
        "    transforms.Normalize((0.5, 0.5, 0.5), (0.5, 0.5, 0.5))\n",
        "])\n",
        "\n",
        "# Загрузка данных\n",
        "dataset = datasets.ImageFolder(os.path.join(DATA_PATH, 'seg_train/seg_train'), transform=transform)"
      ],
      "metadata": {
        "id": "jtefGhRwSsHo"
      },
      "execution_count": 4,
      "outputs": []
    },
    {
      "cell_type": "markdown",
      "source": [
        "## Разделение данных на обучающий и проверочный наборы"
      ],
      "metadata": {
        "id": "bsaiGqlfS6VU"
      }
    },
    {
      "cell_type": "code",
      "source": [
        "# Разделение данных на обучающий и проверочный наборы\n",
        "train_size = int(0.8 * len(dataset))\n",
        "val_size = len(dataset) - train_size\n",
        "train_dataset, val_dataset = torch.utils.data.random_split(dataset, [train_size, val_size])"
      ],
      "metadata": {
        "id": "JTUBmhnJTDcF"
      },
      "execution_count": 5,
      "outputs": []
    },
    {
      "cell_type": "markdown",
      "source": [
        "## Создание загрузчики данных"
      ],
      "metadata": {
        "id": "xxKZL8oRTKLu"
      }
    },
    {
      "cell_type": "code",
      "source": [
        "# Создание загрузчики данных (Даталоадеров)\n",
        "batch_size = 64\n",
        "\n",
        "train_loader = torch.utils.data.DataLoader(dataset=train_dataset, batch_size=batch_size, shuffle=True)\n",
        "val_loader = torch.utils.data.DataLoader(dataset=val_dataset, batch_size=batch_size, shuffle=False)\n",
        "\n",
        "test_dataset = datasets.ImageFolder(os.path.join(DATA_PATH, 'seg_test/seg_test'), transform=transform)\n",
        "test_loader = torch.utils.data.DataLoader(dataset=test_dataset, batch_size=batch_size, shuffle=False)\n"
      ],
      "metadata": {
        "id": "Ue8pMZfPHP1q"
      },
      "execution_count": 6,
      "outputs": []
    },
    {
      "cell_type": "markdown",
      "source": [
        "# Обучение модели"
      ],
      "metadata": {
        "id": "NHxt2e5jTYF-"
      }
    },
    {
      "cell_type": "markdown",
      "source": [
        "##  Гиперпараметры (Hyperparameter tuning)"
      ],
      "metadata": {
        "id": "MLvPUT-DTb7C"
      }
    },
    {
      "cell_type": "code",
      "source": [
        "# !!! Рекоммендуется использовать GPU для тренировки\n",
        "device = torch.device(\"cuda\" if torch.cuda.is_available() else \"cpu\")\n",
        "\n",
        "# Гиперпараметры\n",
        "epochs = 24\n",
        "max_lr = 0.01\n",
        "grad_clip = 0.1\n",
        "weight_decay = 1e-4\n",
        "opt_func = torch.optim.Adam"
      ],
      "metadata": {
        "id": "kZHt92dWHy86"
      },
      "execution_count": 7,
      "outputs": []
    },
    {
      "cell_type": "markdown",
      "source": [
        "## Инициализация параметров и обучение"
      ],
      "metadata": {
        "id": "d6jo_er0UGEc"
      }
    },
    {
      "cell_type": "code",
      "source": [
        "model = ResNet(ResidualBlock, [2, 2, 2]).to(device)\n",
        "criterion = nn.CrossEntropyLoss()\n",
        "optimizer = torch.optim.Adam(model.parameters(), lr=max_lr, weight_decay=weight_decay)\n",
        "\n",
        "scheduler = torch.optim.lr_scheduler.OneCycleLR(optimizer, max_lr=max_lr, \n",
        "                                                steps_per_epoch=len(train_loader), \n",
        "                                                epochs=epochs)\n"
      ],
      "metadata": {
        "id": "BJhjB-BpHZar"
      },
      "execution_count": 8,
      "outputs": []
    },
    {
      "cell_type": "code",
      "source": [
        "for epoch in range(epochs):\n",
        "    model.train()\n",
        "    for i, (images, labels) in enumerate(train_loader):\n",
        "        images = images.to(device)\n",
        "        labels = labels.to(device)\n",
        "        # Forward \n",
        "        outputs = model(images)\n",
        "        loss = criterion(outputs, labels)\n",
        "\n",
        "        # Backward propagation и оптимизация\n",
        "        optimizer.zero_grad()\n",
        "        loss.backward()\n",
        "        # Обрезка градиента (Gradient clipping)\n",
        "        torch.nn.utils.clip_grad_value_(model.parameters(), grad_clip)\n",
        "        optimizer.step()\n",
        "        scheduler.step()\n",
        "\n",
        "    # Валидация\n",
        "    model.eval()\n",
        "    with torch.no_grad():\n",
        "        correct = 0\n",
        "        total = 0\n",
        "        for images, labels in val_loader:\n",
        "            images = images.to(device)\n",
        "            labels = labels.to(device)\n",
        "            outputs = model(images)\n",
        "            _, predicted = torch.max(outputs.data, 1)\n",
        "            total += labels.size(0)\n",
        "            correct += (predicted == labels).sum().item()\n",
        "\n",
        "        print('Точность модели на валидационных изображениях: {} %'.format(100 * correct / total))\n"
      ],
      "metadata": {
        "colab": {
          "base_uri": "https://localhost:8080/"
        },
        "id": "uP0Bq3hQH4a-",
        "outputId": "1a83c1bf-096b-468c-b789-6b2f0a3c910c"
      },
      "execution_count": 9,
      "outputs": [
        {
          "output_type": "stream",
          "name": "stdout",
          "text": [
            "Точность модели на валидационных изображениях: 54.07908799429996 %\n",
            "Точность модели на валидационных изображениях: 61.91663697898112 %\n",
            "Точность модели на валидационных изображениях: 62.4153900961881 %\n",
            "Точность модели на валидационных изображениях: 66.65479159244745 %\n",
            "Точность модели на валидационных изображениях: 72.3548272176701 %\n",
            "Точность модели на валидационных изображениях: 72.31920199501246 %\n",
            "Точность модели на валидационных изображениях: 75.846099038119 %\n",
            "Точность модели на валидационных изображениях: 82.40114000712505 %\n",
            "Точность модели на валидационных изображениях: 73.20983256145351 %\n",
            "Точность модели на валидационных изображениях: 80.29925187032418 %\n",
            "Точность модели на валидационных изображениях: 80.15675097969363 %\n",
            "Точность модели на валидационных изображениях: 81.83113644460278 %\n",
            "Точность модели на валидационных изображениях: 81.26113288208052 %\n",
            "Точность модели на валидационных изображениях: 83.57677235482721 %\n",
            "Точность модели на валидационных изображениях: 79.40862130388315 %\n",
            "Точность модели на валидационных изображениях: 84.89490559315996 %\n",
            "Точность модели на валидационных изображениях: 78.12611328820805 %\n",
            "Точность модели на валидационных изображениях: 83.07801923762024 %\n",
            "Точность модели на валидационных изображениях: 81.36800855005343 %\n",
            "Точность модели на валидационных изображениях: 83.61239757748486 %\n",
            "Точность модели на валидационных изображениях: 84.14677591734949 %\n",
            "Точность модели на валидационных изображениях: 84.43177769861062 %\n",
            "Точность модели на валидационных изображениях: 84.11115069469184 %\n",
            "Точность модели на валидационных изображениях: 84.46740292126826 %\n"
          ]
        }
      ]
    },
    {
      "cell_type": "code",
      "source": [
        "# Сохранение модели\n",
        "torch.save(model.state_dict(), 'model_resnet.pth')"
      ],
      "metadata": {
        "id": "6N0cIMIweKKU"
      },
      "execution_count": 10,
      "outputs": []
    },
    {
      "cell_type": "markdown",
      "source": [
        "# Результаты и Заключение"
      ],
      "metadata": {
        "id": "lYtuXImGWzty"
      }
    },
    {
      "cell_type": "markdown",
      "source": [
        "## Результат"
      ],
      "metadata": {
        "id": "hTnYeKVmX-Yv"
      }
    },
    {
      "cell_type": "code",
      "source": [
        "model.eval()\n",
        "all_labels = []\n",
        "all_predictions = []\n",
        "\n",
        "with torch.no_grad():\n",
        "    correct = 0\n",
        "    total = 0\n",
        "    for images, labels in test_loader:\n",
        "        images = images.to(device)\n",
        "        labels = labels.to(device)\n",
        "        outputs = model(images)\n",
        "        _, predicted = torch.max(outputs.data, 1)\n",
        "        total += labels.size(0)\n",
        "        correct += (predicted == labels).sum().item()\n",
        "\n",
        "        all_labels.extend(labels.cpu().numpy())\n",
        "        all_predictions.extend(predicted.cpu().numpy())\n",
        "\n",
        "print('Точность модели на тестовых изображениях:: {} %'.format(100 * correct / total))"
      ],
      "metadata": {
        "colab": {
          "base_uri": "https://localhost:8080/"
        },
        "id": "3sBysA31H8gA",
        "outputId": "a6e1bf08-e608-4cad-9b58-6578721dfe69"
      },
      "execution_count": 11,
      "outputs": [
        {
          "output_type": "stream",
          "name": "stdout",
          "text": [
            "Точность модели на тестовых изображениях:: 84.43333333333334 %\n"
          ]
        }
      ]
    },
    {
      "cell_type": "code",
      "source": [
        "# Classification Report\n",
        "print(\"Classification Report: \\n\", classification_report(all_labels, all_predictions))"
      ],
      "metadata": {
        "colab": {
          "base_uri": "https://localhost:8080/"
        },
        "id": "di8TveqKXJ7o",
        "outputId": "360aa6ad-ea74-4920-8de7-dfb71e576ef0"
      },
      "execution_count": 12,
      "outputs": [
        {
          "output_type": "stream",
          "name": "stdout",
          "text": [
            "Classification Report: \n",
            "               precision    recall  f1-score   support\n",
            "\n",
            "           0       0.86      0.83      0.85       437\n",
            "           1       0.93      0.95      0.94       474\n",
            "           2       0.80      0.77      0.78       553\n",
            "           3       0.80      0.79      0.79       525\n",
            "           4       0.83      0.87      0.85       510\n",
            "           5       0.85      0.87      0.86       501\n",
            "\n",
            "    accuracy                           0.84      3000\n",
            "   macro avg       0.85      0.85      0.85      3000\n",
            "weighted avg       0.84      0.84      0.84      3000\n",
            "\n"
          ]
        }
      ]
    },
    {
      "cell_type": "code",
      "source": [
        "# Confusion matrix\n",
        "cm = confusion_matrix(all_labels, all_predictions)\n",
        "plt.figure(figsize=(10,10))\n",
        "sns.heatmap(cm, annot=True, fmt=\".0f\", linewidths=.5, square = True, cmap = 'Blues_r');\n",
        "plt.ylabel('Actual label');\n",
        "plt.xlabel('Predicted label');\n",
        "plt.title('Confusion Matrix', size = 10);\n"
      ],
      "metadata": {
        "colab": {
          "base_uri": "https://localhost:8080/",
          "height": 807
        },
        "id": "GX9i-cMqXOG5",
        "outputId": "1678665b-0289-4f54-b312-59decb0d3429"
      },
      "execution_count": 13,
      "outputs": [
        {
          "output_type": "display_data",
          "data": {
            "text/plain": [
              "<Figure size 1000x1000 with 2 Axes>"
            ],
            "image/png": "[encoded data removed]"
          },
          "metadata": {}
        }
      ]
    },
    {
      "cell_type": "markdown",
      "source": [
        "## Заключение"
      ],
      "metadata": {
        "id": "txJ0J0iPX51N"
      }
    },
    {
      "cell_type": "markdown",
      "source": [
        "В используется архитектура *ResNet* (*Residual Network*) - конволюционная нейронная сеть, известная как \"skip connections\". Эта модель известна тем, что позволяет обучать глубокие сети.\n",
        "\n",
        "Модель *ResNet* строится из блоков ResidualBlock. Каждый блок имеет два сверточных слоя и дополнительный слой понижающей выборки.\n",
        "\n",
        "Используется набор данных [*Intel Image Classification*](https://www.kaggle.com/puneet6060/intel-image-classification) от Kaggle. Он включает изображения, классифицированные по шести различным классам. Перед подачей в модель изображения изменяются в размере и нормализуются.\n",
        "\n",
        "Для обучения используется оптимизатор *Adam*, вариант стохастического градиентного спуска, с одноцикловой политикой скорости обучения и обрезанием градиента для управления величиной обновления градиента.\n",
        "\n",
        "Производительность модели оценивается с помощью точности, прецизионности, отзыва и *F1-score*, как показано в отчете о классификации. Кроме того, матрица путаницы дает наглядное представление о работе модели.\n",
        "\n",
        "На тестовом наборе модель достигла точности 85%. Модель еще можно улучшить, используя более сложную версию ResNet, точную настройку гиперпараметров или применяя методы расширения данных."
      ],
      "metadata": {
        "id": "K4imhE7yYD1j"
      }
    }
  ]
}